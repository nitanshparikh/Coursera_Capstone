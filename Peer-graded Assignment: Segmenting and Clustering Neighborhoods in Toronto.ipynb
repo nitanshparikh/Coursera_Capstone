columns = ['PostalCode','Borough','Neighborhood']

toronto_neighborhood = pd.Dataframe(columns = columns)

toronto_neighborhood.head()
