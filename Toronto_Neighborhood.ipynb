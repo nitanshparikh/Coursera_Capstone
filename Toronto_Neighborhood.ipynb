{
 "cells": [
  {
   "cell_type": "code",
   "execution_count": 1,
   "id": "466c5997-db43-4be1-8870-58c8a804db2c",
   "metadata": {},
   "outputs": [
    {
     "name": "stdout",
     "output_type": "stream",
     "text": [
      "Collecting BeautifulSoup4\n",
      "\u001b[?25l  Downloading https://files.pythonhosted.org/packages/d1/41/e6495bd7d3781cee623ce23ea6ac73282a373088fcd0ddc809a047b18eae/beautifulsoup4-4.9.3-py3-none-any.whl (115kB)\n",
      "\u001b[K     |████████████████████████████████| 122kB 24.8MB/s eta 0:00:01\n",
      "\u001b[?25hCollecting soupsieve>1.2; python_version >= \"3.0\" (from BeautifulSoup4)\n",
      "  Downloading https://files.pythonhosted.org/packages/36/69/d82d04022f02733bf9a72bc3b96332d360c0c5307096d76f6bb7489f7e57/soupsieve-2.2.1-py3-none-any.whl\n",
      "Installing collected packages: soupsieve, BeautifulSoup4\n",
      "Successfully installed BeautifulSoup4-4.9.3 soupsieve-2.2.1\n"
     ]
    }
   ],
   "source": [
    "import numpy as np\n",
    "import pandas as pd\n",
    "import requests\n",
    "! pip install BeautifulSoup4\n",
    "from bs4 import BeautifulSoup"
   ]
  },
  {
   "cell_type": "markdown",
   "id": "c5311a48-ff7b-4fa4-bfb5-4ecc703f1ff9",
   "metadata": {},
   "source": [
    "## Creating dataframe for toronto neighborhoods"
   ]
  },
  {
   "cell_type": "code",
   "execution_count": 2,
   "id": "7bf1eed5-1450-4fe6-9146-10edaa5e5625",
   "metadata": {},
   "outputs": [
    {
     "data": {
      "text/html": [
       "<div>\n",
       "<style scoped>\n",
       "    .dataframe tbody tr th:only-of-type {\n",
       "        vertical-align: middle;\n",
       "    }\n",
       "\n",
       "    .dataframe tbody tr th {\n",
       "        vertical-align: top;\n",
       "    }\n",
       "\n",
       "    .dataframe thead th {\n",
       "        text-align: right;\n",
       "    }\n",
       "</style>\n",
       "<table border=\"1\" class=\"dataframe\">\n",
       "  <thead>\n",
       "    <tr style=\"text-align: right;\">\n",
       "      <th></th>\n",
       "      <th>PostalCode</th>\n",
       "      <th>Borough</th>\n",
       "      <th>Neighborhood</th>\n",
       "    </tr>\n",
       "  </thead>\n",
       "  <tbody>\n",
       "  </tbody>\n",
       "</table>\n",
       "</div>"
      ],
      "text/plain": [
       "Empty DataFrame\n",
       "Columns: [PostalCode, Borough, Neighborhood]\n",
       "Index: []"
      ]
     },
     "execution_count": 2,
     "metadata": {},
     "output_type": "execute_result"
    }
   ],
   "source": [
    "columns = ['PostalCode','Borough','Neighborhood']\n",
    "\n",
    "toronto_neighborhood = pd.DataFrame(columns = columns)\n",
    "\n",
    "toronto_neighborhood.head()"
   ]
  },
  {
   "cell_type": "code",
   "execution_count": 3,
   "id": "5fbd5294-acad-4e1b-8316-dbb134174dc8",
   "metadata": {},
   "outputs": [],
   "source": [
    "URL = 'https://en.wikipedia.org/wiki/List_of_postal_codes_of_Canada:_M'\n",
    "page = requests.get(URL)\n",
    "\n",
    "soup = BeautifulSoup(page.content, 'html.parser')"
   ]
  },
  {
   "cell_type": "code",
   "execution_count": 4,
   "id": "9264c354-7bd1-4a88-8b80-acabb8f4595d",
   "metadata": {},
   "outputs": [],
   "source": [
    "table_contents=[]\n",
    "table=soup.find('table')\n",
    "for row in table.findAll('td'):\n",
    "    cell = {}\n",
    "    if row.span.text=='Not assigned':\n",
    "        pass\n",
    "    else:\n",
    "        cell['PostalCode'] = row.p.text[:3]\n",
    "        cell['Borough'] = (row.span.text).split('(')[0]\n",
    "        cell['Neighborhood'] = (((((row.span.text).split('(')[1]).strip(')')).replace(' /',',')).replace(')',' ')).strip(' ')\n",
    "        table_contents.append(cell)\n",
    "\n",
    "#print(table_contents)"
   ]
  },
  {
   "cell_type": "code",
   "execution_count": 7,
   "id": "5add70ce-189d-41ca-824d-d833ed6393aa",
   "metadata": {},
   "outputs": [
    {
     "data": {
      "text/plain": [
       "(206, 3)"
      ]
     },
     "execution_count": 7,
     "metadata": {},
     "output_type": "execute_result"
    }
   ],
   "source": [
    "for data in table_contents:\n",
    "    postalCode = data['PostalCode']\n",
    "    borough = data['Borough']\n",
    "    neighborhood = data['Neighborhood']\n",
    "    toronto_neighborhood = toronto_neighborhood.append({'Borough':borough,'Neighborhood':neighborhood,'PostalCode':postalCode},ignore_index=True)\n",
    "\n",
    "toronto_neighborhood.shape"
   ]
  },
  {
   "cell_type": "markdown",
   "id": "ce06bdce-bf22-4947-a06a-0b4a6ba1c43a",
   "metadata": {},
   "source": [
    "### Ignore cells with a borough that is Not assigned "
   ]
  },
  {
   "cell_type": "code",
   "execution_count": 8,
   "id": "ed72410b-2ba1-4cb6-9eaf-8f122b61ff70",
   "metadata": {},
   "outputs": [
    {
     "data": {
      "text/plain": [
       "(206, 3)"
      ]
     },
     "execution_count": 8,
     "metadata": {},
     "output_type": "execute_result"
    }
   ],
   "source": [
    "toronto_neighborhood['Borough'].replace('', np.nan, inplace=True)\n",
    "\n",
    "toronto_neighborhood.dropna(subset=['Borough'], inplace=True)\n",
    "\n",
    "toronto_neighborhood.shape"
   ]
  },
  {
   "cell_type": "markdown",
   "id": "e31faa60-bbe1-457a-8561-db456eaa0464",
   "metadata": {},
   "source": [
    "### Replacing not assigned neighborhoods with borough name"
   ]
  },
  {
   "cell_type": "code",
   "execution_count": 10,
   "id": "36f9627e-a508-40f2-b2ee-68a5315d72c5",
   "metadata": {},
   "outputs": [
    {
     "data": {
      "text/plain": [
       "(206, 3)"
      ]
     },
     "execution_count": 10,
     "metadata": {},
     "output_type": "execute_result"
    }
   ],
   "source": [
    "toronto_neighborhood['Neighborhood'].replace('', np.nan, inplace=True)\n",
    "\n",
    "toronto_neighborhood['Neighborhood'].fillna(toronto_neighborhood['Borough'],inplace=True)\n",
    "\n",
    "toronto_neighborhood.shape"
   ]
  },
  {
   "cell_type": "code",
   "execution_count": null,
   "id": "98bb4230-5965-4ccc-9a2b-84d43f52c7ba",
   "metadata": {},
   "outputs": [],
   "source": []
  }
 ],
 "metadata": {
  "kernelspec": {
   "display_name": "Python",
   "language": "python",
   "name": "conda-env-python-py"
  },
  "language_info": {
   "codemirror_mode": {
    "name": "ipython",
    "version": 3
   },
   "file_extension": ".py",
   "mimetype": "text/x-python",
   "name": "python",
   "nbconvert_exporter": "python",
   "pygments_lexer": "ipython3",
   "version": "3.6.13"
  }
 },
 "nbformat": 4,
 "nbformat_minor": 5
}
